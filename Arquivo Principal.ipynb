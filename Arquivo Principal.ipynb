{
 "cells": [
  {
   "cell_type": "code",
   "execution_count": 1,
   "metadata": {},
   "outputs": [],
   "source": [
    "#pip install tmdbsimple\n",
    "import pandas as pd\n",
    "import numpy as np\n",
    "from numpy.random import shuffle\n",
    "from sklearn import preprocessing\n",
    "from sklearn.naive_bayes import MultinomialNB\n",
    "import tmdbsimple as tmdb\n",
    "tmdb.API_KEY = 'abcd9827ce3fb2298891370ff0cd0e58'"
   ]
  },
  {
   "cell_type": "code",
   "execution_count": 23,
   "metadata": {},
   "outputs": [],
   "source": [
    "def takeInfos(id):\n",
    "    pessoas = []\n",
    "    keywords = []\n",
    "    sTitles = []\n",
    "    sPopularity = []\n",
    "    sMedia = []\n",
    "\n",
    "    movie = tmdb.Movies(id)\n",
    "\n",
    "    response = movie.info()\n",
    "    popularity = round(movie.popularity)\n",
    "    media = round(movie.vote_average)\n",
    "    title = movie.title\n",
    "    for ator in movie.credits()['cast']: pessoas.append(ator['name'])\n",
    "    for crew in movie.credits()['crew']: pessoas.append(crew['name'])\n",
    "    for keyword in movie.keywords()['keywords']: keywords.append(keyword['name'])\n",
    "    for similar in movie.similar_movies()['results']: \n",
    "        sTitles.append(similar['title'])\n",
    "        sPopularity.append(round(similar[\"popularity\"]))\n",
    "        sMedia.append(round(similar[\"vote_average\"]))\n",
    "    \n",
    "    return title,popularity,media,pessoas,keywords,sTitles,sPopularity,sMedia\n",
    "\n",
    "def NormalizeCat(X):\n",
    "    global perda\n",
    "    i = 0\n",
    "    n = len(X)\n",
    "    limit = 300\n",
    "    if len(X)>limit:perda+=1\n",
    "    while(len(X)<limit):\n",
    "        if i == n: i = 0\n",
    "        X.append(X[i])\n",
    "        i+=1\n",
    "    while(len(X)>limit):\n",
    "        X.pop()\n",
    "    return X\n",
    "        "
   ]
  },
  {
   "cell_type": "code",
   "execution_count": 3,
   "metadata": {},
   "outputs": [],
   "source": [
    "class Encoder:\n",
    "    def __init__(self,lista):\n",
    "        self.Codex = []\n",
    "        self.atualIndex = 1\n",
    "        self.fit(lista)\n",
    "        \n",
    "    def fit(self,lista):\n",
    "        for item in lista:\n",
    "            onList = False\n",
    "            for code in self.Codex:\n",
    "                if item == code[0]: onList = True\n",
    "            if not onList:\n",
    "                self.Codex.append([item,self.atualIndex])\n",
    "                self.atualIndex+=1\n",
    "    \n",
    "    def transform(self,lista):\n",
    "        resposta = []\n",
    "        for item in lista:\n",
    "            for code in self.Codex:\n",
    "                if item == code[0]: resposta.append(code[1])\n",
    "        return resposta\n",
    "    \n",
    "    def fit_transform(self,lista):\n",
    "        self.fit(lista)\n",
    "        return self.transform(lista)\n",
    "    \n",
    "    def inverse_transform(self,lista):\n",
    "        resposta = []\n",
    "        for item in lista:\n",
    "            for code in self.Codex:\n",
    "                if item == code[1]: resposta.append(code[0])\n",
    "        if len(lista)==1: return resposta[0]\n",
    "        return resposta\n",
    "    \n",
    "    def show(self):\n",
    "        print(self.Codex)\n",
    "    \n",
    "    def Feed(self,id):\n",
    "        title,popularity,media,pessoas,keywords,sTitles,sPopularity,sMedia = takeInfos(id)\n",
    "        self.fit([title])\n",
    "        self.fit(sTitles)\n",
    "        self.fit(pessoas)\n",
    "        self.fit(keywords)\n",
    "        Ms = []\n",
    "        Pss = []\n",
    "        for M in sMedia: Ms.append(\"M\"+str(M))\n",
    "        for Ps in sPopularity: Pss.append(\"Ps\"+str(Ps))\n",
    "\n",
    "        X = self.fit_transform([\"P\"+str(popularity)])\n",
    "        for i in self.fit_transform(Pss): X.append(i)\n",
    "        for i in self.transform(pessoas): X.append(i)\n",
    "        for i in self.transform(Ms): X.append(i)\n",
    "        for i in self.transform(keywords): X.append(i)\n",
    "        y = [media]\n",
    "        X = [NormalizeCat(X)]\n",
    "        return X,y"
   ]
  },
  {
   "cell_type": "code",
   "execution_count": null,
   "metadata": {},
   "outputs": [],
   "source": []
  },
  {
   "cell_type": "code",
   "execution_count": 4,
   "metadata": {
    "collapsed": true
   },
   "outputs": [],
   "source": [
    "credits = pd.read_csv(\"tmdb_5000_credits.csv\")\n",
    "movies = pd.read_csv(\"tmdb_5000_movies.csv\")"
   ]
  },
  {
   "cell_type": "code",
   "execution_count": 5,
   "metadata": {},
   "outputs": [
    {
     "data": {
      "text/html": [
       "<div>\n",
       "<table border=\"1\" class=\"dataframe\">\n",
       "  <thead>\n",
       "    <tr style=\"text-align: right;\">\n",
       "      <th></th>\n",
       "      <th>budget</th>\n",
       "      <th>genres</th>\n",
       "      <th>homepage</th>\n",
       "      <th>id</th>\n",
       "      <th>keywords</th>\n",
       "      <th>original_language</th>\n",
       "      <th>original_title</th>\n",
       "      <th>overview</th>\n",
       "      <th>popularity</th>\n",
       "      <th>production_companies</th>\n",
       "      <th>production_countries</th>\n",
       "      <th>release_date</th>\n",
       "      <th>revenue</th>\n",
       "      <th>runtime</th>\n",
       "      <th>spoken_languages</th>\n",
       "      <th>status</th>\n",
       "      <th>tagline</th>\n",
       "      <th>title</th>\n",
       "      <th>vote_average</th>\n",
       "      <th>vote_count</th>\n",
       "    </tr>\n",
       "  </thead>\n",
       "  <tbody>\n",
       "    <tr>\n",
       "      <th>0</th>\n",
       "      <td>237000000</td>\n",
       "      <td>[{\"id\": 28, \"name\": \"Action\"}, {\"id\": 12, \"nam...</td>\n",
       "      <td>http://www.avatarmovie.com/</td>\n",
       "      <td>19995</td>\n",
       "      <td>[{\"id\": 1463, \"name\": \"culture clash\"}, {\"id\":...</td>\n",
       "      <td>en</td>\n",
       "      <td>Avatar</td>\n",
       "      <td>In the 22nd century, a paraplegic Marine is di...</td>\n",
       "      <td>150.437577</td>\n",
       "      <td>[{\"name\": \"Ingenious Film Partners\", \"id\": 289...</td>\n",
       "      <td>[{\"iso_3166_1\": \"US\", \"name\": \"United States o...</td>\n",
       "      <td>2009-12-10</td>\n",
       "      <td>2787965087</td>\n",
       "      <td>162.0</td>\n",
       "      <td>[{\"iso_639_1\": \"en\", \"name\": \"English\"}, {\"iso...</td>\n",
       "      <td>Released</td>\n",
       "      <td>Enter the World of Pandora.</td>\n",
       "      <td>Avatar</td>\n",
       "      <td>7.2</td>\n",
       "      <td>11800</td>\n",
       "    </tr>\n",
       "  </tbody>\n",
       "</table>\n",
       "</div>"
      ],
      "text/plain": [
       "      budget                                             genres  \\\n",
       "0  237000000  [{\"id\": 28, \"name\": \"Action\"}, {\"id\": 12, \"nam...   \n",
       "\n",
       "                      homepage     id  \\\n",
       "0  http://www.avatarmovie.com/  19995   \n",
       "\n",
       "                                            keywords original_language  \\\n",
       "0  [{\"id\": 1463, \"name\": \"culture clash\"}, {\"id\":...                en   \n",
       "\n",
       "  original_title                                           overview  \\\n",
       "0         Avatar  In the 22nd century, a paraplegic Marine is di...   \n",
       "\n",
       "   popularity                               production_companies  \\\n",
       "0  150.437577  [{\"name\": \"Ingenious Film Partners\", \"id\": 289...   \n",
       "\n",
       "                                production_countries release_date     revenue  \\\n",
       "0  [{\"iso_3166_1\": \"US\", \"name\": \"United States o...   2009-12-10  2787965087   \n",
       "\n",
       "   runtime                                   spoken_languages    status  \\\n",
       "0    162.0  [{\"iso_639_1\": \"en\", \"name\": \"English\"}, {\"iso...  Released   \n",
       "\n",
       "                       tagline   title  vote_average  vote_count  \n",
       "0  Enter the World of Pandora.  Avatar           7.2       11800  "
      ]
     },
     "execution_count": 5,
     "metadata": {},
     "output_type": "execute_result"
    }
   ],
   "source": [
    "movies.head(1)"
   ]
  },
  {
   "cell_type": "code",
   "execution_count": 6,
   "metadata": {},
   "outputs": [
    {
     "data": {
      "text/html": [
       "<div>\n",
       "<table border=\"1\" class=\"dataframe\">\n",
       "  <thead>\n",
       "    <tr style=\"text-align: right;\">\n",
       "      <th></th>\n",
       "      <th>movie_id</th>\n",
       "      <th>title</th>\n",
       "      <th>cast</th>\n",
       "      <th>crew</th>\n",
       "    </tr>\n",
       "  </thead>\n",
       "  <tbody>\n",
       "    <tr>\n",
       "      <th>0</th>\n",
       "      <td>19995</td>\n",
       "      <td>Avatar</td>\n",
       "      <td>[{\"cast_id\": 242, \"character\": \"Jake Sully\", \"...</td>\n",
       "      <td>[{\"credit_id\": \"52fe48009251416c750aca23\", \"de...</td>\n",
       "    </tr>\n",
       "  </tbody>\n",
       "</table>\n",
       "</div>"
      ],
      "text/plain": [
       "   movie_id   title                                               cast  \\\n",
       "0     19995  Avatar  [{\"cast_id\": 242, \"character\": \"Jake Sully\", \"...   \n",
       "\n",
       "                                                crew  \n",
       "0  [{\"credit_id\": \"52fe48009251416c750aca23\", \"de...  "
      ]
     },
     "execution_count": 6,
     "metadata": {},
     "output_type": "execute_result"
    }
   ],
   "source": [
    "credits.head(1)"
   ]
  },
  {
   "cell_type": "code",
   "execution_count": 7,
   "metadata": {},
   "outputs": [],
   "source": [
    "Naive = MultinomialNB()"
   ]
  },
  {
   "cell_type": "code",
   "execution_count": 25,
   "metadata": {},
   "outputs": [
    {
     "name": "stdout",
     "output_type": "stream",
     "text": [
      "0\n"
     ]
    }
   ],
   "source": [
    "print(perda)"
   ]
  },
  {
   "cell_type": "code",
   "execution_count": 9,
   "metadata": {},
   "outputs": [
    {
     "name": "stderr",
     "output_type": "stream",
     "text": [
      "C:\\Users\\pheli\\Anaconda3\\lib\\site-packages\\sklearn\\naive_bayes.py:461: RuntimeWarning: divide by zero encountered in log\n",
      "  self.class_log_prior_ = (np.log(self.class_count_) -\n"
     ]
    }
   ],
   "source": [
    "#NÃO RODAR ISSO SE NÃO FOR MUUUITO NECESSARIO\n",
    "Codex = Encoder(['M0',\"M1\",\"M2\",'M3','M4','M5','M6','M7','M8','M9','M10'])\n",
    "perda = 0\n",
    "X,y = Codex.Feed(603)\n",
    "if not (len(X[0])>300) :Naive.fit(X,y)\n",
    "else: perda+=1"
   ]
  },
  {
   "cell_type": "code",
   "execution_count": 24,
   "metadata": {},
   "outputs": [
    {
     "name": "stderr",
     "output_type": "stream",
     "text": [
      "C:\\Users\\pheli\\Anaconda3\\lib\\site-packages\\sklearn\\naive_bayes.py:461: RuntimeWarning: divide by zero encountered in log\n",
      "  self.class_log_prior_ = (np.log(self.class_count_) -\n"
     ]
    },
    {
     "name": "stdout",
     "output_type": "stream",
     "text": [
      "1/30\n",
      "2/30\n",
      "3/30\n",
      "4/30\n",
      "5/30\n",
      "6/30\n",
      "7/30\n",
      "8/30\n",
      "9/30\n",
      "10/30\n",
      "11/30\n",
      "12/30\n",
      "13/30\n",
      "14/30\n",
      "15/30\n",
      "16/30\n",
      "17/30\n",
      "18/30\n",
      "19/30\n",
      "20/30\n",
      "21/30\n",
      "22/30\n",
      "23/30\n",
      "24/30\n",
      "25/30\n",
      "26/30\n",
      "27/30\n",
      "28/30\n",
      "29/30\n",
      "30/30\n"
     ]
    }
   ],
   "source": [
    "n = 30\n",
    "i = 0\n",
    "IDlist = IDlist = list(movies[\"id\"])\n",
    "shuffle(IDlist)\n",
    "for idd in IDlist:  \n",
    "    X,y = Codex.Feed(idd)\n",
    "    if not (len(X[0])>300):Naive.fit(X,y)\n",
    "    else: perda+=1\n",
    "    i += 1\n",
    "    print(str(i)+\"/\"+str(n))\n",
    "    if i == n:break"
   ]
  },
  {
   "cell_type": "code",
   "execution_count": 26,
   "metadata": {},
   "outputs": [
    {
     "name": "stdout",
     "output_type": "stream",
     "text": [
      "1/10\n",
      "2/10\n",
      "3/10\n",
      "4/10\n",
      "5/10\n",
      "6/10\n",
      "7/10\n",
      "8/10\n",
      "9/10\n",
      "10/10\n",
      "\n",
      " a: 5\n",
      "e1: 4\n",
      "em1: 1\n",
      "\n",
      " n8: 10\n",
      " s8: 0\n"
     ]
    }
   ],
   "source": [
    "i = 0\n",
    "n = 10\n",
    "s8 = 0\n",
    "n8 = 0\n",
    "e1 = 0\n",
    "em1 = 0\n",
    "a = 0\n",
    "\n",
    "IDlist = IDlist = list(movies[\"id\"])\n",
    "shuffle(IDlist)\n",
    "for idd in IDlist: \n",
    "    X,y = Codex.Feed(idd)\n",
    "    saida = Naive.predict(X)\n",
    "    \n",
    "    if saida != 8: n8 += 1\n",
    "    else: s8 += 1\n",
    "    \n",
    "    if saida == y: a += 1\n",
    "    elif (saida == y[0]+1 or saida == y[0]-1): e1 += 1\n",
    "    else: em1 +=1\n",
    "\n",
    "    i += 1\n",
    "    print(str(i)+\"/\"+str(n))\n",
    "    if i == n:break\n",
    "        \n",
    "print(\"\\n a: {0}\".format(a))\n",
    "print(\"e1: {0}\".format(e1))\n",
    "print(\"em1: {0}\".format(em1))\n",
    "print(\"\\n n8: {0}\".format(n8))\n",
    "print(\" s8: {0}\".format(s8))"
   ]
  },
  {
   "cell_type": "code",
   "execution_count": null,
   "metadata": {},
   "outputs": [],
   "source": [
    "search = tmdb.Search()\n",
    "response = search.movie(query='The Man Who Invented')\n",
    "for s in search.results: print(s['title'], s['id'], s['release_date'], s['popularity'], round(s['vote_average']))"
   ]
  },
  {
   "cell_type": "code",
   "execution_count": null,
   "metadata": {},
   "outputs": [],
   "source": []
  },
  {
   "cell_type": "code",
   "execution_count": null,
   "metadata": {},
   "outputs": [],
   "source": []
  },
  {
   "cell_type": "code",
   "execution_count": null,
   "metadata": {},
   "outputs": [],
   "source": []
  },
  {
   "cell_type": "code",
   "execution_count": null,
   "metadata": {
    "collapsed": true
   },
   "outputs": [],
   "source": []
  }
 ],
 "metadata": {
  "kernelspec": {
   "display_name": "Python 3",
   "language": "python",
   "name": "python3"
  },
  "language_info": {
   "codemirror_mode": {
    "name": "ipython",
    "version": 3
   },
   "file_extension": ".py",
   "mimetype": "text/x-python",
   "name": "python",
   "nbconvert_exporter": "python",
   "pygments_lexer": "ipython3",
   "version": "3.6.0"
  }
 },
 "nbformat": 4,
 "nbformat_minor": 2
}
