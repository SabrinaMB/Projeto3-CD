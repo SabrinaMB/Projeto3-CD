{
 "cells": [
  {
   "cell_type": "markdown",
   "metadata": {
    "collapsed": true
   },
   "source": [
    "# Projeto Ciencias dos Dados 3\n",
    "\n",
    "Phelipe Müller,\n",
    "Sabrina Machado e\n",
    "Bruno Cury"
   ]
  },
  {
   "cell_type": "code",
   "execution_count": null,
   "metadata": {
    "collapsed": true
   },
   "outputs": [],
   "source": [
    "%reset -f\n",
    "#pip install tmdbsimple\n",
    "import pandas as pd\n",
    "import numpy as np\n",
    "from numpy.random import shuffle\n",
    "import matplotlib.pyplot as plt\n",
    "from sklearn import preprocessing\n",
    "from sklearn.naive_bayes import MultinomialNB\n",
    "from sklearn import svm\n",
    "import tmdbsimple as tmdb\n",
    "import seaborn as sns\n",
    "import json\n",
    "sns.set()\n",
    "tmdb.API_KEY = 'abcd9827ce3fb2298891370ff0cd0e58'"
   ]
  },
  {
   "cell_type": "code",
   "execution_count": 215,
   "metadata": {
    "collapsed": true
   },
   "outputs": [],
   "source": [
    "#Este bloco contem funções para retirar informaçãos do API do TMDB e dos DataFrames lidos mais abaixo\n",
    "\n",
    "def takeInfos(id):\n",
    "    atores = []\n",
    "    crews = []\n",
    "    keywords = []\n",
    "\n",
    "    movie = tmdb.Movies(id)\n",
    "\n",
    "    response = movie.info()\n",
    "    popularity = round(movie.popularity)\n",
    "    media = round(movie.vote_average)\n",
    "    title = movie.title\n",
    "    for ator in movie.credits()['cast']: atores.append(ator['name'])\n",
    "    for crew in movie.credits()['crew']: crews.append(crew['name'])\n",
    "    for keyword in movie.keywords()['keywords']: keywords.append(keyword['name'])\n",
    "    for similar in movie.similar_movies()['results']: \n",
    "        sTitles.append(similar['title'])\n",
    "        sPopularity.append(round(similar[\"popularity\"]))\n",
    "        sMedia.append(round(similar[\"vote_average\"]))\n",
    "    \n",
    "    return title,popularity,media,atores,crews,keywords\n",
    "\n",
    "def takeOffInfos(line):\n",
    "    atores = []\n",
    "    crews = []\n",
    "    keywords = []\n",
    "\n",
    "    popularity = round(movies.iloc[line].popularity)\n",
    "    media = round(movies.iloc[line].vote_average)\n",
    "    title = movies.iloc[line].title\n",
    "    \n",
    "    i = 0\n",
    "    x = credits.iloc[0].cast[i:].find('\"name\": ')\n",
    "    y = credits.iloc[0].cast[x:].find(\",\")+x\n",
    "    name=[credits.iloc[0].cast[x+9:y-1]]\n",
    "    for i in range(2):\n",
    "        i = y+16\n",
    "        x = credits.iloc[0].cast[i:].find('\"name\": ')\n",
    "        y = credits.iloc[0].cast[i+x:].find('\",')+x+i\n",
    "        name.append(credits.iloc[0].cast[i+x+9:y])\n",
    "    atores = name\n",
    "    \n",
    "    x = credits.iloc[0].crew.find('\"name\": ')\n",
    "    y = credits.iloc[0].crew[x:].find(\",\")+x\n",
    "    crew =[credits.iloc[0].crew[x+9:y-2]]\n",
    "    \n",
    "    x = movies.iloc[0].keywords.find('\"name\": ')\n",
    "    y = movies.iloc[0].keywords[x:].find(\",\")+x\n",
    "    name=[movies.iloc[0].keywords[x+9:y-1]]\n",
    "    for i in range(2):\n",
    "        i = y+4\n",
    "        x = movies.iloc[0].keywords[i:].find('\"name\": ')\n",
    "        y = movies.iloc[0].keywords[i+x:].find('\"},')+x+i\n",
    "        name.append(movies.iloc[0].keywords[i+x+9:y])\n",
    "    keywords = name\n",
    "    \n",
    "    return title,popularity,media,atores,crews,keywords\n",
    "\n",
    "def NormalizeCat(X): #Não esta sendo usado\n",
    "    global perda\n",
    "    i = 0\n",
    "    n = len(X)\n",
    "    limit = 300\n",
    "    if len(X)>limit:perda+=1\n",
    "    while(len(X)<limit):\n",
    "        if i == n: i = 0\n",
    "        X.append(X[i])\n",
    "        i+=1\n",
    "    while(len(X)>limit):\n",
    "        X.pop()\n",
    "    return X\n",
    "        "
   ]
  },
  {
   "cell_type": "code",
   "execution_count": 216,
   "metadata": {
    "collapsed": true
   },
   "outputs": [],
   "source": [
    "#Função para Interface de Usuario\n",
    "def UI():\n",
    "    Entrada = str(input(\"Qual filme você deseja saber a nota?\"))\n",
    "    search = tmdb.Search()\n",
    "    response = search.movie(query=Entrada)\n",
    "    if len(Search.results) == 0: print(\"Desculpe não encontrei nenhum filme com este nome...\")\n",
    "    if len(Search.resuslts) > 1:\n",
    "        print(\"Encontrei os seguintes filmes com este nome, qual deles você deseja?\")\n",
    "        for i in range(len(search.results)): print(str(search.results[i]['title']) + \"  [i]\")\n",
    "        Escolido = int(input())\n",
    "    else: Escolido = 0\n",
    "    X,y = Codex.Feed(search.results[Escolido]['id'])\n",
    "    saida = Naive.predict([X])\n",
    "    print(\"A nota desse filme provavelmente será {0}\".format(saida[0]))\n",
    "    print(\"For DEVS: a nota real é {0}\".format(search.results[Escolido]['vote_average']))\n",
    "    "
   ]
  },
  {
   "cell_type": "code",
   "execution_count": 217,
   "metadata": {
    "collapsed": true
   },
   "outputs": [],
   "source": [
    "class Encoder:\n",
    "    def __init__(self,lista):\n",
    "        self.Codex = []\n",
    "        self.atualIndex = 1\n",
    "        self.fit(lista)\n",
    "        \n",
    "    def fit(self,lista):\n",
    "        for item in lista:\n",
    "            onList = False\n",
    "            for code in self.Codex:\n",
    "                if item == code[0]: onList = True\n",
    "            if not onList:\n",
    "                self.Codex.append([item,self.atualIndex])\n",
    "                self.atualIndex+=1\n",
    "    \n",
    "    def transform(self,lista):\n",
    "        resposta = []\n",
    "        for item in lista:\n",
    "            for code in self.Codex:\n",
    "                if item == code[0]: resposta.append(code[1])\n",
    "        return resposta\n",
    "    \n",
    "    def fit_transform(self,lista):\n",
    "        self.fit(lista)\n",
    "        return self.transform(lista)\n",
    "    \n",
    "    def inverse_transform(self,lista):\n",
    "        resposta = []\n",
    "        for item in lista:\n",
    "            for code in self.Codex:\n",
    "                if item == code[1]: resposta.append(code[0])\n",
    "        return resposta\n",
    "    \n",
    "    def show(self):\n",
    "        print(self.Codex)\n",
    "    \n",
    "    def Feed(self,line):\n",
    "        title,popularity,media,atores,crews,keywords = takeOffInfos(line)\n",
    "        self.fit([title])\n",
    "        self.fit(atores)\n",
    "        self.fit(crews)\n",
    "        self.fit(keywords)\n",
    "\n",
    "        Atores = self.transform(atores)\n",
    "        Crews = self.transform(crews)\n",
    "        Keywords = self.transform(keywords)\n",
    "        X = self.fit_transform([\"P\"+str(popularity/10)])\n",
    "        if len(Crews)>0:X.append(Crews[0])\n",
    "        else: X.append(X[-1])\n",
    "        for i in range(3):\n",
    "            if len(Atores)>(i): X.append(Atores[i])\n",
    "            else: X.append(X[-1])\n",
    "\n",
    "            if len(Keywords)>(i): X.append(Keywords[i])\n",
    "            else: X.append(X[-1])\n",
    "        y = round(media/2)\n",
    "        return X,y"
   ]
  },
  {
   "cell_type": "code",
   "execution_count": 218,
   "metadata": {
    "collapsed": true
   },
   "outputs": [],
   "source": [
    "credits = pd.read_csv(\"tmdb_5000_credits.csv\")\n",
    "movies = pd.read_csv(\"tmdb_5000_movies.csv\")"
   ]
  },
  {
   "cell_type": "code",
   "execution_count": 219,
   "metadata": {
    "collapsed": true
   },
   "outputs": [],
   "source": [
    "#Definição de banda de treino e teste baseado nos DataFrames acima \n",
    "IDlist = list(movies[\"id\"])\n",
    "n = 4000\n",
    "IDTrainList = IDlist[:n]\n",
    "IDTestList = IDlist[n:]"
   ]
  },
  {
   "cell_type": "code",
   "execution_count": 220,
   "metadata": {
    "collapsed": true
   },
   "outputs": [],
   "source": [
    "#Inicialização dos Classificadores e do Encoder(Criado mais a cima)\n",
    "Codex = Encoder(['M0',\"M1\",\"M2\",'M3','M4','M5','M6','M7','M8','M9','M10'])\n",
    "Naive = MultinomialNB()\n",
    "VectorMachine = svm.SVC()"
   ]
  },
  {
   "cell_type": "code",
   "execution_count": 265,
   "metadata": {},
   "outputs": [
    {
     "data": {
      "text/plain": [
       "SVC(C=1.0, cache_size=200, class_weight=None, coef0=0.0,\n",
       "  decision_function_shape='ovr', degree=3, gamma='auto', kernel='rbf',\n",
       "  max_iter=-1, probability=False, random_state=None, shrinking=True,\n",
       "  tol=0.001, verbose=False)"
      ]
     },
     "execution_count": 265,
     "metadata": {},
     "output_type": "execute_result"
    }
   ],
   "source": [
    "#Treino para SVM e Naive Bayes\n",
    "n = 4000\n",
    "i = 0\n",
    "X = []\n",
    "y = []\n",
    "shuffle(IDTrainList)\n",
    "for i in range(len(IDTrainList)):\n",
    "    X.append(Codex.Feed(i)[0])\n",
    "    y.append(Codex.Feed(i)[1])\n",
    "    i += 1\n",
    "    if i == n:break\n",
    "Naive.fit(X,y)\n",
    "VectorMachine.fit(X, y)"
   ]
  },
  {
   "cell_type": "code",
   "execution_count": 266,
   "metadata": {},
   "outputs": [],
   "source": [
    "#Bloco de para teste, Matriz Naive e Matriz2 SVM\n",
    "i = 0\n",
    "n = 803\n",
    "shuffle(IDTestList)\n",
    "Matriz = np.array([[0]*5]*5)\n",
    "Matriz2 = np.array([[0]*5]*5)\n",
    "for i in range(len(IDTestList)): \n",
    "    X,y = Codex.Feed(i)\n",
    "    saida = Naive.predict([X])\n",
    "    saida2 = VectorMachine.predict([X])\n",
    "    \n",
    "    Matriz[int(y)][int(saida[0])]+=1\n",
    "    Matriz2[int(y)][int(saida2[0])]+=1\n",
    "\n",
    "    i += 1\n",
    "    if i == n:break"
   ]
  },
  {
   "cell_type": "code",
   "execution_count": 268,
   "metadata": {
    "scrolled": true
   },
   "outputs": [
    {
     "data": {
      "image/png": "[encoded data removed]",
      "text/plain": [
       "<matplotlib.figure.Figure at 0x25f9d036400>"
      ]
     },
     "metadata": {},
     "output_type": "display_data"
    }
   ],
   "source": [
    "#Bloco usado para plotar os Graficos usados no relatorio\n",
    "ax = sns.heatmap(Matriz2, annot=True,fmt='d')\n",
    "plt.title(\"Heatmap: Nota 0 a 4\")\n",
    "plt.xlabel(\"Previsto\")\n",
    "plt.ylabel(\"Real\")\n",
    "plt.show()"
   ]
  },
  {
   "cell_type": "code",
   "execution_count": null,
   "metadata": {
    "collapsed": true
   },
   "outputs": [],
   "source": []
  }
 ],
 "metadata": {
  "kernelspec": {
   "display_name": "Python 3",
   "language": "python",
   "name": "python3"
  },
  "language_info": {
   "codemirror_mode": {
    "name": "ipython",
    "version": 3
   },
   "file_extension": ".py",
   "mimetype": "text/x-python",
   "name": "python",
   "nbconvert_exporter": "python",
   "pygments_lexer": "ipython3",
   "version": "3.6.0"
  }
 },
 "nbformat": 4,
 "nbformat_minor": 2
}
