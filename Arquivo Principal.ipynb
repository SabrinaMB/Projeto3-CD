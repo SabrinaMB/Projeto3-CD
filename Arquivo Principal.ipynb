{
 "cells": [
  {
   "cell_type": "code",
   "execution_count": 18,
   "metadata": {
    "collapsed": true
   },
   "outputs": [],
   "source": [
    "#pip install tmdbsimple\n",
    "import pandas as pd\n",
    "import numpy as np\n",
    "from numpy.random import shuffle\n",
    "from sklearn import preprocessing\n",
    "from sklearn.naive_bayes import MultinomialNB\n",
    "import tmdbsimple as tmdb\n",
    "tmdb.API_KEY = 'abcd9827ce3fb2298891370ff0cd0e58'"
   ]
  },
  {
   "cell_type": "code",
   "execution_count": 19,
   "metadata": {
    "collapsed": true
   },
   "outputs": [],
   "source": [
    "def takeInfos(id):\n",
    "    atores = []\n",
    "    crews = []\n",
    "    keywords = []\n",
    "    sTitles = []\n",
    "    sPopularity = []\n",
    "    sMedia = []\n",
    "\n",
    "    movie = tmdb.Movies(id)\n",
    "\n",
    "    response = movie.info()\n",
    "    popularity = round(movie.popularity)\n",
    "    media = round(movie.vote_average)\n",
    "    title = movie.title\n",
    "    for ator in movie.credits()['cast']: atores.append(ator['name'])\n",
    "    for crew in movie.credits()['crew']: crews.append(crew['name'])\n",
    "    for keyword in movie.keywords()['keywords']: keywords.append(keyword['name'])\n",
    "    for similar in movie.similar_movies()['results']: \n",
    "        sTitles.append(similar['title'])\n",
    "        sPopularity.append(round(similar[\"popularity\"]))\n",
    "        sMedia.append(round(similar[\"vote_average\"]))\n",
    "    \n",
    "    return title,popularity,media,atores,crews,keywords,sTitles,sPopularity,sMedia\n",
    "\n",
    "def NormalizeCat(X): #Não esta sendo usado\n",
    "    global perda\n",
    "    i = 0\n",
    "    n = len(X)\n",
    "    limit = 300\n",
    "    if len(X)>limit:perda+=1\n",
    "    while(len(X)<limit):\n",
    "        if i == n: i = 0\n",
    "        X.append(X[i])\n",
    "        i+=1\n",
    "    while(len(X)>limit):\n",
    "        X.pop()\n",
    "    return X\n",
    "        "
   ]
  },
  {
   "cell_type": "code",
   "execution_count": 20,
   "metadata": {
    "collapsed": true
   },
   "outputs": [],
   "source": [
    "class Encoder:\n",
    "    def __init__(self,lista):\n",
    "        self.Codex = []\n",
    "        self.atualIndex = 1\n",
    "        self.fit(lista)\n",
    "        \n",
    "    def fit(self,lista):\n",
    "        for item in lista:\n",
    "            onList = False\n",
    "            for code in self.Codex:\n",
    "                if item == code[0]: onList = True\n",
    "            if not onList:\n",
    "                self.Codex.append([item,self.atualIndex])\n",
    "                self.atualIndex+=1\n",
    "    \n",
    "    def transform(self,lista):\n",
    "        resposta = []\n",
    "        for item in lista:\n",
    "            for code in self.Codex:\n",
    "                if item == code[0]: resposta.append(code[1])\n",
    "        return resposta\n",
    "    \n",
    "    def fit_transform(self,lista):\n",
    "        self.fit(lista)\n",
    "        return self.transform(lista)\n",
    "    \n",
    "    def inverse_transform(self,lista):\n",
    "        resposta = []\n",
    "        for item in lista:\n",
    "            for code in self.Codex:\n",
    "                if item == code[1]: resposta.append(code[0])\n",
    "        if len(lista)==1: return resposta[0]\n",
    "        return resposta\n",
    "    \n",
    "    def show(self):\n",
    "        print(self.Codex)\n",
    "    \n",
    "    def Feed(self,id):\n",
    "        title,popularity,media,atores,crews,keywords,sTitles,sPopularity,sMedia = takeInfos(id)\n",
    "        self.fit([title])\n",
    "        self.fit(sTitles)\n",
    "        self.fit(atores)\n",
    "        self.fit(crews)\n",
    "        self.fit(keywords)\n",
    "\n",
    "        Atores = self.transform(atores)\n",
    "        Crews = self.transform(crews)\n",
    "        Keywords = self.transform(keywords)\n",
    "        X = self.fit_transform([\"P\"+str(popularity)])\n",
    "        if len(Crews)>0:X.append(Crews[0])\n",
    "        else: X.append(X[-1])\n",
    "        for i in range(3):\n",
    "            if len(Atores)>(i): X.append(Atores[i])\n",
    "            else: X.append(X[-1])\n",
    "            if len(Keywords)>(i): X.append(Keywords[i])\n",
    "            else: X.append(X[-1])\n",
    "        y = [media]\n",
    "        X = [X]\n",
    "        return X,y"
   ]
  },
  {
   "cell_type": "code",
   "execution_count": 76,
   "metadata": {},
   "outputs": [],
   "source": [
    "IDlist = list(movies[\"id\"])\n",
    "n = 3000\n",
    "IDTrainList = IDlist[:n]\n",
    "IDTestList = IDlist[n:]"
   ]
  },
  {
   "cell_type": "code",
   "execution_count": 21,
   "metadata": {
    "collapsed": true
   },
   "outputs": [],
   "source": [
    "credits = pd.read_csv(\"tmdb_5000_credits.csv\")\n",
    "movies = pd.read_csv(\"tmdb_5000_movies.csv\")"
   ]
  },
  {
   "cell_type": "code",
   "execution_count": 22,
   "metadata": {},
   "outputs": [
    {
     "data": {
      "text/html": [
       "<div>\n",
       "<table border=\"1\" class=\"dataframe\">\n",
       "  <thead>\n",
       "    <tr style=\"text-align: right;\">\n",
       "      <th></th>\n",
       "      <th>budget</th>\n",
       "      <th>genres</th>\n",
       "      <th>homepage</th>\n",
       "      <th>id</th>\n",
       "      <th>keywords</th>\n",
       "      <th>original_language</th>\n",
       "      <th>original_title</th>\n",
       "      <th>overview</th>\n",
       "      <th>popularity</th>\n",
       "      <th>production_companies</th>\n",
       "      <th>production_countries</th>\n",
       "      <th>release_date</th>\n",
       "      <th>revenue</th>\n",
       "      <th>runtime</th>\n",
       "      <th>spoken_languages</th>\n",
       "      <th>status</th>\n",
       "      <th>tagline</th>\n",
       "      <th>title</th>\n",
       "      <th>vote_average</th>\n",
       "      <th>vote_count</th>\n",
       "    </tr>\n",
       "  </thead>\n",
       "  <tbody>\n",
       "    <tr>\n",
       "      <th>0</th>\n",
       "      <td>237000000</td>\n",
       "      <td>[{\"id\": 28, \"name\": \"Action\"}, {\"id\": 12, \"nam...</td>\n",
       "      <td>http://www.avatarmovie.com/</td>\n",
       "      <td>19995</td>\n",
       "      <td>[{\"id\": 1463, \"name\": \"culture clash\"}, {\"id\":...</td>\n",
       "      <td>en</td>\n",
       "      <td>Avatar</td>\n",
       "      <td>In the 22nd century, a paraplegic Marine is di...</td>\n",
       "      <td>150.437577</td>\n",
       "      <td>[{\"name\": \"Ingenious Film Partners\", \"id\": 289...</td>\n",
       "      <td>[{\"iso_3166_1\": \"US\", \"name\": \"United States o...</td>\n",
       "      <td>2009-12-10</td>\n",
       "      <td>2787965087</td>\n",
       "      <td>162.0</td>\n",
       "      <td>[{\"iso_639_1\": \"en\", \"name\": \"English\"}, {\"iso...</td>\n",
       "      <td>Released</td>\n",
       "      <td>Enter the World of Pandora.</td>\n",
       "      <td>Avatar</td>\n",
       "      <td>7.2</td>\n",
       "      <td>11800</td>\n",
       "    </tr>\n",
       "  </tbody>\n",
       "</table>\n",
       "</div>"
      ],
      "text/plain": [
       "      budget                                             genres  \\\n",
       "0  237000000  [{\"id\": 28, \"name\": \"Action\"}, {\"id\": 12, \"nam...   \n",
       "\n",
       "                      homepage     id  \\\n",
       "0  http://www.avatarmovie.com/  19995   \n",
       "\n",
       "                                            keywords original_language  \\\n",
       "0  [{\"id\": 1463, \"name\": \"culture clash\"}, {\"id\":...                en   \n",
       "\n",
       "  original_title                                           overview  \\\n",
       "0         Avatar  In the 22nd century, a paraplegic Marine is di...   \n",
       "\n",
       "   popularity                               production_companies  \\\n",
       "0  150.437577  [{\"name\": \"Ingenious Film Partners\", \"id\": 289...   \n",
       "\n",
       "                                production_countries release_date     revenue  \\\n",
       "0  [{\"iso_3166_1\": \"US\", \"name\": \"United States o...   2009-12-10  2787965087   \n",
       "\n",
       "   runtime                                   spoken_languages    status  \\\n",
       "0    162.0  [{\"iso_639_1\": \"en\", \"name\": \"English\"}, {\"iso...  Released   \n",
       "\n",
       "                       tagline   title  vote_average  vote_count  \n",
       "0  Enter the World of Pandora.  Avatar           7.2       11800  "
      ]
     },
     "execution_count": 22,
     "metadata": {},
     "output_type": "execute_result"
    }
   ],
   "source": [
    "movies.head(1)"
   ]
  },
  {
   "cell_type": "code",
   "execution_count": 23,
   "metadata": {},
   "outputs": [
    {
     "data": {
      "text/html": [
       "<div>\n",
       "<table border=\"1\" class=\"dataframe\">\n",
       "  <thead>\n",
       "    <tr style=\"text-align: right;\">\n",
       "      <th></th>\n",
       "      <th>movie_id</th>\n",
       "      <th>title</th>\n",
       "      <th>cast</th>\n",
       "      <th>crew</th>\n",
       "    </tr>\n",
       "  </thead>\n",
       "  <tbody>\n",
       "    <tr>\n",
       "      <th>0</th>\n",
       "      <td>19995</td>\n",
       "      <td>Avatar</td>\n",
       "      <td>[{\"cast_id\": 242, \"character\": \"Jake Sully\", \"...</td>\n",
       "      <td>[{\"credit_id\": \"52fe48009251416c750aca23\", \"de...</td>\n",
       "    </tr>\n",
       "  </tbody>\n",
       "</table>\n",
       "</div>"
      ],
      "text/plain": [
       "   movie_id   title                                               cast  \\\n",
       "0     19995  Avatar  [{\"cast_id\": 242, \"character\": \"Jake Sully\", \"...   \n",
       "\n",
       "                                                crew  \n",
       "0  [{\"credit_id\": \"52fe48009251416c750aca23\", \"de...  "
      ]
     },
     "execution_count": 23,
     "metadata": {},
     "output_type": "execute_result"
    }
   ],
   "source": [
    "credits.head(1)"
   ]
  },
  {
   "cell_type": "code",
   "execution_count": 24,
   "metadata": {
    "collapsed": true
   },
   "outputs": [],
   "source": [
    "Naive = MultinomialNB()"
   ]
  },
  {
   "cell_type": "code",
   "execution_count": null,
   "metadata": {},
   "outputs": [
    {
     "name": "stderr",
     "output_type": "stream",
     "text": [
      "C:\\Users\\Bruno\\Anaconda3\\lib\\site-packages\\sklearn\\naive_bayes.py:455: RuntimeWarning: divide by zero encountered in log\n",
      "  self.class_log_prior_ = (np.log(self.class_count_) -\n"
     ]
    },
    {
     "data": {
      "text/plain": [
       "MultinomialNB(alpha=1.0, class_prior=None, fit_prior=True)"
      ]
     },
     "execution_count": 25,
     "metadata": {},
     "output_type": "execute_result"
    }
   ],
   "source": [
    "#NÃO RODAR ISSO SE NÃO FOR MUUUITO NECESSARIO\n",
    "Codex = Encoder(['M0',\"M1\",\"M2\",'M3','M4','M5','M6','M7','M8','M9','M10'])\n",
    "perda = 0\n",
    "X,y = Codex.Feed(603)\n",
    "Naive.fit(X,y)\n",
    "#else: perda+=1"
   ]
  },
  {
   "cell_type": "code",
   "execution_count": null,
   "metadata": {
    "scrolled": false
   },
   "outputs": [
    {
     "name": "stderr",
     "output_type": "stream",
     "text": [
      "C:\\Users\\Bruno\\Anaconda3\\lib\\site-packages\\sklearn\\naive_bayes.py:455: RuntimeWarning: divide by zero encountered in log\n",
      "  self.class_log_prior_ = (np.log(self.class_count_) -\n"
     ]
    },
    {
     "name": "stdout",
     "output_type": "stream",
     "text": [
      "1/300\n",
      "2/300\n",
      "3/300\n",
      "4/300\n",
      "5/300\n",
      "6/300\n",
      "7/300\n",
      "8/300\n",
      "9/300\n",
      "10/300\n",
      "11/300\n",
      "12/300\n",
      "13/300\n",
      "14/300\n",
      "15/300\n",
      "16/300\n",
      "17/300\n",
      "18/300\n",
      "19/300\n",
      "20/300\n",
      "21/300\n",
      "22/300\n",
      "23/300\n",
      "24/300\n",
      "25/300\n",
      "26/300\n",
      "27/300\n",
      "28/300\n",
      "29/300\n",
      "30/300\n",
      "31/300\n",
      "32/300\n",
      "33/300\n",
      "34/300\n",
      "35/300\n",
      "36/300\n",
      "37/300\n",
      "38/300\n"
     ]
    }
   ],
   "source": [
    "n = 300\n",
    "i = 0\n",
    "shuffle(IDTrainList)\n",
    "for idd in IDlistTrainList:\n",
    "    X,y = Codex.Feed(idd)\n",
    "    Naive.partial_fit(X,y)\n",
    "    i += 1\n",
    "    print(str(i)+\"/\"+str(n))\n",
    "    if i == n:break"
   ]
  },
  {
   "cell_type": "code",
   "execution_count": null,
   "metadata": {
    "collapsed": true
   },
   "outputs": [],
   "source": [
    "i = 0\n",
    "n = 500\n",
    "s8 = 0\n",
    "n8 = 0\n",
    "e1 = 0\n",
    "em1 = 0\n",
    "a = 0\n",
    "\n",
    "shuffle(IDTestList)\n",
    "for idd in IDTestList: \n",
    "    X,y = Codex.Feed(idd)\n",
    "    saida = Naive.predict(X)\n",
    "    \n",
    "    if saida != 8: n8 += 1\n",
    "    else: s8 += 1\n",
    "    \n",
    "    if saida == y: a += 1\n",
    "    elif (saida == y[0]+1 or saida == y[0]-1): e1 += 1\n",
    "    else: em1 +=1\n",
    "\n",
    "    i += 1\n",
    "    print(str(i)+\"/\"+str(n))\n",
    "    if i == n:break\n",
    "        \n",
    "print(\"\\n a: {0}\".format(a))\n",
    "print(\"e1: {0}\".format(e1))\n",
    "print(\"em1: {0}\".format(em1))\n",
    "print(\"\\n n8: {0}\".format(n8))\n",
    "print(\" s8: {0}\".format(s8))"
   ]
  },
  {
   "cell_type": "code",
   "execution_count": null,
   "metadata": {
    "collapsed": true
   },
   "outputs": [],
   "source": [
    "search = tmdb.Search()\n",
    "response = search.movie(query='The Man Who Invented')\n",
    "for s in search.results: print(s['title'], s['id'], s['release_date'], s['popularity'], round(s['vote_average']))"
   ]
  }
 ],
 "metadata": {
  "kernelspec": {
   "display_name": "Python 3",
   "language": "python",
   "name": "python3"
  },
  "language_info": {
   "codemirror_mode": {
    "name": "ipython",
    "version": 3
   },
   "file_extension": ".py",
   "mimetype": "text/x-python",
   "name": "python",
   "nbconvert_exporter": "python",
   "pygments_lexer": "ipython3",
   "version": "3.6.0"
  }
 },
 "nbformat": 4,
 "nbformat_minor": 2
}
